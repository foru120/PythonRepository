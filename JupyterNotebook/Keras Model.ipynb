{
 "cells": [
  {
   "cell_type": "markdown",
   "metadata": {
    "school_cell_uuid": "cf3a5fe2ccb14af280704be4743ea24e"
   },
   "source": [
    "# Keras `Model` 클래스"
   ]
  },
  {
   "cell_type": "markdown",
   "metadata": {
    "school_cell_uuid": "1c4519fdcd684ba593c38b2e4c00b6b7"
   },
   "source": [
    "* `Sequential` 클래스외에 더 유연한 `Model` 클래스 제공\n",
    "* Keras의 `Model` 클래스 객체와 레이어(`Tensor`) 객체는 callable 객체.\n",
    "* 다른 레이어(`Tensor`) 객체를 입력으로 호출하면 그 레이어를 입력으로 가지는 복합 레이어 객체가 된다.\n",
    "* `Model` 클래스  객체는 `Input` 레이어와 그 `Input` 레이어에 연결된 다른 레이어를 출력으로 주어 생성.\n",
    "* `Model` 클래스  객체도 다른 레이어(텐서)를 입력으로 호출하면 그 레이어를 입력으로 가지는 복합 레이어가 된다."
   ]
  },
  {
   "cell_type": "code",
   "execution_count": 24,
   "metadata": {
    "school_cell_uuid": "e2e3ac13bb9e4916afec415967d5e458"
   },
   "outputs": [],
   "source": [
    "from keras.layers import Input, Dense\n",
    "from keras.models import Model, Sequential"
   ]
  },
  {
   "cell_type": "code",
   "execution_count": 25,
   "metadata": {
    "school_cell_uuid": "120ecb780c6c4b5cac1f1f023a93556f"
   },
   "outputs": [],
   "source": [
    "# sample weights\n",
    "np.random.seed(0)\n",
    "w = 0.5 * np.random.normal(size=(4, 4))\n",
    "b = np.zeros((4))"
   ]
  },
  {
   "cell_type": "code",
   "execution_count": 26,
   "metadata": {
    "school_cell_uuid": "5cfb6e0bfe2b429dbddd8f21ef37d77d"
   },
   "outputs": [
    {
     "data": {
      "text/plain": [
       "keras.models.Sequential"
      ]
     },
     "execution_count": 26,
     "metadata": {},
     "output_type": "execute_result"
    }
   ],
   "source": [
    "model1 = Sequential(name=\"model1\")\n",
    "model1.add(Dense(4, activation='sigmoid', input_shape=(4,), weights=(w, b), name=\"dense1\"))\n",
    "type(model1)"
   ]
  },
  {
   "cell_type": "code",
   "execution_count": 27,
   "metadata": {
    "school_cell_uuid": "931be6b0a00c49c6882e1330434138f1"
   },
   "outputs": [
    {
     "name": "stdout",
     "output_type": "stream",
     "text": [
      "_________________________________________________________________\n",
      "Layer (type)                 Output Shape              Param #   \n",
      "=================================================================\n",
      "dense1 (Dense)               (None, 4)                 20        \n",
      "=================================================================\n",
      "Total params: 20\n",
      "Trainable params: 20\n",
      "Non-trainable params: 0\n",
      "_________________________________________________________________\n"
     ]
    }
   ],
   "source": [
    "model1.summary()"
   ]
  },
  {
   "cell_type": "code",
   "execution_count": 28,
   "metadata": {
    "school_cell_uuid": "782ed68767e54a37a30d10f21293f812"
   },
   "outputs": [
    {
     "data": {
      "image/svg+xml": [
       "<svg height=\"138pt\" viewBox=\"0.00 0.00 288.00 138.00\" width=\"288pt\" xmlns=\"http://www.w3.org/2000/svg\" xmlns:xlink=\"http://www.w3.org/1999/xlink\">\n",
       "<g class=\"graph\" id=\"graph0\" transform=\"scale(1 1) rotate(0) translate(4 134)\">\n",
       "<title>G</title>\n",
       "<polygon fill=\"#ffffff\" points=\"-4,4 -4,-134 284,-134 284,4 -4,4\" stroke=\"transparent\"/>\n",
       "<!-- 140448602981544 -->\n",
       "<g class=\"node\" id=\"node1\">\n",
       "<title>140448602981544</title>\n",
       "<polygon fill=\"none\" points=\"0,-83.5 0,-129.5 280,-129.5 280,-83.5 0,-83.5\" stroke=\"#000000\"/>\n",
       "<text fill=\"#000000\" font-family=\"Times,serif\" font-size=\"14.00\" text-anchor=\"middle\" x=\"78\" y=\"-102.8\">dense1_input: InputLayer</text>\n",
       "<polyline fill=\"none\" points=\"156,-83.5 156,-129.5 \" stroke=\"#000000\"/>\n",
       "<text fill=\"#000000\" font-family=\"Times,serif\" font-size=\"14.00\" text-anchor=\"middle\" x=\"183.5\" y=\"-114.3\">input:</text>\n",
       "<polyline fill=\"none\" points=\"156,-106.5 211,-106.5 \" stroke=\"#000000\"/>\n",
       "<text fill=\"#000000\" font-family=\"Times,serif\" font-size=\"14.00\" text-anchor=\"middle\" x=\"183.5\" y=\"-91.3\">output:</text>\n",
       "<polyline fill=\"none\" points=\"211,-83.5 211,-129.5 \" stroke=\"#000000\"/>\n",
       "<text fill=\"#000000\" font-family=\"Times,serif\" font-size=\"14.00\" text-anchor=\"middle\" x=\"245.5\" y=\"-114.3\">(None, 4)</text>\n",
       "<polyline fill=\"none\" points=\"211,-106.5 280,-106.5 \" stroke=\"#000000\"/>\n",
       "<text fill=\"#000000\" font-family=\"Times,serif\" font-size=\"14.00\" text-anchor=\"middle\" x=\"245.5\" y=\"-91.3\">(None, 4)</text>\n",
       "</g>\n",
       "<!-- 140448602981096 -->\n",
       "<g class=\"node\" id=\"node2\">\n",
       "<title>140448602981096</title>\n",
       "<polygon fill=\"none\" points=\"30.5,-.5 30.5,-46.5 249.5,-46.5 249.5,-.5 30.5,-.5\" stroke=\"#000000\"/>\n",
       "<text fill=\"#000000\" font-family=\"Times,serif\" font-size=\"14.00\" text-anchor=\"middle\" x=\"78\" y=\"-19.8\">dense1: Dense</text>\n",
       "<polyline fill=\"none\" points=\"125.5,-.5 125.5,-46.5 \" stroke=\"#000000\"/>\n",
       "<text fill=\"#000000\" font-family=\"Times,serif\" font-size=\"14.00\" text-anchor=\"middle\" x=\"153\" y=\"-31.3\">input:</text>\n",
       "<polyline fill=\"none\" points=\"125.5,-23.5 180.5,-23.5 \" stroke=\"#000000\"/>\n",
       "<text fill=\"#000000\" font-family=\"Times,serif\" font-size=\"14.00\" text-anchor=\"middle\" x=\"153\" y=\"-8.3\">output:</text>\n",
       "<polyline fill=\"none\" points=\"180.5,-.5 180.5,-46.5 \" stroke=\"#000000\"/>\n",
       "<text fill=\"#000000\" font-family=\"Times,serif\" font-size=\"14.00\" text-anchor=\"middle\" x=\"215\" y=\"-31.3\">(None, 4)</text>\n",
       "<polyline fill=\"none\" points=\"180.5,-23.5 249.5,-23.5 \" stroke=\"#000000\"/>\n",
       "<text fill=\"#000000\" font-family=\"Times,serif\" font-size=\"14.00\" text-anchor=\"middle\" x=\"215\" y=\"-8.3\">(None, 4)</text>\n",
       "</g>\n",
       "<!-- 140448602981544&#45;&gt;140448602981096 -->\n",
       "<g class=\"edge\" id=\"edge1\">\n",
       "<title>140448602981544-&gt;140448602981096</title>\n",
       "<path d=\"M140,-83.3799C140,-75.1745 140,-65.7679 140,-56.8786\" fill=\"none\" stroke=\"#000000\"/>\n",
       "<polygon fill=\"#000000\" points=\"143.5001,-56.784 140,-46.784 136.5001,-56.784 143.5001,-56.784\" stroke=\"#000000\"/>\n",
       "</g>\n",
       "</g>\n",
       "</svg>"
      ],
      "text/plain": [
       "<IPython.core.display.SVG object>"
      ]
     },
     "execution_count": 28,
     "metadata": {},
     "output_type": "execute_result"
    }
   ],
   "source": [
    "from IPython.display import SVG\n",
    "from keras.utils.vis_utils import model_to_dot\n",
    "\n",
    "SVG(model_to_dot(model1, show_shapes=True).create(prog='dot', format='svg'))"
   ]
  },
  {
   "cell_type": "code",
   "execution_count": 29,
   "metadata": {
    "school_cell_uuid": "7395d7feb70c4a54b5a43f1a7c220773"
   },
   "outputs": [
    {
     "data": {
      "text/plain": [
       "keras.engine.training.Model"
      ]
     },
     "execution_count": 29,
     "metadata": {},
     "output_type": "execute_result"
    }
   ],
   "source": [
    "input_layer2 = Input(shape=(4,), name=\"input2\")\n",
    "hidden_layer2 = Dense(4, activation='sigmoid', weights=(w, b), name=\"dense2\")(input_layer2)\n",
    "model2 = Model(input_layer2, hidden_layer2, name=\"model2\")\n",
    "type(model2)"
   ]
  },
  {
   "cell_type": "code",
   "execution_count": 30,
   "metadata": {
    "school_cell_uuid": "e141946466a14d08a2afa448d46670e2"
   },
   "outputs": [
    {
     "name": "stdout",
     "output_type": "stream",
     "text": [
      "_________________________________________________________________\n",
      "Layer (type)                 Output Shape              Param #   \n",
      "=================================================================\n",
      "input2 (InputLayer)          (None, 4)                 0         \n",
      "_________________________________________________________________\n",
      "dense2 (Dense)               (None, 4)                 20        \n",
      "=================================================================\n",
      "Total params: 20\n",
      "Trainable params: 20\n",
      "Non-trainable params: 0\n",
      "_________________________________________________________________\n"
     ]
    }
   ],
   "source": [
    "model2.summary()"
   ]
  },
  {
   "cell_type": "code",
   "execution_count": 31,
   "metadata": {
    "school_cell_uuid": "4072436145fd467c979d0264bbc50b1d"
   },
   "outputs": [
    {
     "data": {
      "image/svg+xml": [
       "<svg height=\"138pt\" viewBox=\"0.00 0.00 251.00 138.00\" width=\"251pt\" xmlns=\"http://www.w3.org/2000/svg\" xmlns:xlink=\"http://www.w3.org/1999/xlink\">\n",
       "<g class=\"graph\" id=\"graph0\" transform=\"scale(1 1) rotate(0) translate(4 134)\">\n",
       "<title>G</title>\n",
       "<polygon fill=\"#ffffff\" points=\"-4,4 -4,-134 247,-134 247,4 -4,4\" stroke=\"transparent\"/>\n",
       "<!-- 140448602910112 -->\n",
       "<g class=\"node\" id=\"node1\">\n",
       "<title>140448602910112</title>\n",
       "<polygon fill=\"none\" points=\"0,-83.5 0,-129.5 243,-129.5 243,-83.5 0,-83.5\" stroke=\"#000000\"/>\n",
       "<text fill=\"#000000\" font-family=\"Times,serif\" font-size=\"14.00\" text-anchor=\"middle\" x=\"59.5\" y=\"-102.8\">input2: InputLayer</text>\n",
       "<polyline fill=\"none\" points=\"119,-83.5 119,-129.5 \" stroke=\"#000000\"/>\n",
       "<text fill=\"#000000\" font-family=\"Times,serif\" font-size=\"14.00\" text-anchor=\"middle\" x=\"146.5\" y=\"-114.3\">input:</text>\n",
       "<polyline fill=\"none\" points=\"119,-106.5 174,-106.5 \" stroke=\"#000000\"/>\n",
       "<text fill=\"#000000\" font-family=\"Times,serif\" font-size=\"14.00\" text-anchor=\"middle\" x=\"146.5\" y=\"-91.3\">output:</text>\n",
       "<polyline fill=\"none\" points=\"174,-83.5 174,-129.5 \" stroke=\"#000000\"/>\n",
       "<text fill=\"#000000\" font-family=\"Times,serif\" font-size=\"14.00\" text-anchor=\"middle\" x=\"208.5\" y=\"-114.3\">(None, 4)</text>\n",
       "<polyline fill=\"none\" points=\"174,-106.5 243,-106.5 \" stroke=\"#000000\"/>\n",
       "<text fill=\"#000000\" font-family=\"Times,serif\" font-size=\"14.00\" text-anchor=\"middle\" x=\"208.5\" y=\"-91.3\">(None, 4)</text>\n",
       "</g>\n",
       "<!-- 140448602968360 -->\n",
       "<g class=\"node\" id=\"node2\">\n",
       "<title>140448602968360</title>\n",
       "<polygon fill=\"none\" points=\"12,-.5 12,-46.5 231,-46.5 231,-.5 12,-.5\" stroke=\"#000000\"/>\n",
       "<text fill=\"#000000\" font-family=\"Times,serif\" font-size=\"14.00\" text-anchor=\"middle\" x=\"59.5\" y=\"-19.8\">dense2: Dense</text>\n",
       "<polyline fill=\"none\" points=\"107,-.5 107,-46.5 \" stroke=\"#000000\"/>\n",
       "<text fill=\"#000000\" font-family=\"Times,serif\" font-size=\"14.00\" text-anchor=\"middle\" x=\"134.5\" y=\"-31.3\">input:</text>\n",
       "<polyline fill=\"none\" points=\"107,-23.5 162,-23.5 \" stroke=\"#000000\"/>\n",
       "<text fill=\"#000000\" font-family=\"Times,serif\" font-size=\"14.00\" text-anchor=\"middle\" x=\"134.5\" y=\"-8.3\">output:</text>\n",
       "<polyline fill=\"none\" points=\"162,-.5 162,-46.5 \" stroke=\"#000000\"/>\n",
       "<text fill=\"#000000\" font-family=\"Times,serif\" font-size=\"14.00\" text-anchor=\"middle\" x=\"196.5\" y=\"-31.3\">(None, 4)</text>\n",
       "<polyline fill=\"none\" points=\"162,-23.5 231,-23.5 \" stroke=\"#000000\"/>\n",
       "<text fill=\"#000000\" font-family=\"Times,serif\" font-size=\"14.00\" text-anchor=\"middle\" x=\"196.5\" y=\"-8.3\">(None, 4)</text>\n",
       "</g>\n",
       "<!-- 140448602910112&#45;&gt;140448602968360 -->\n",
       "<g class=\"edge\" id=\"edge1\">\n",
       "<title>140448602910112-&gt;140448602968360</title>\n",
       "<path d=\"M121.5,-83.3799C121.5,-75.1745 121.5,-65.7679 121.5,-56.8786\" fill=\"none\" stroke=\"#000000\"/>\n",
       "<polygon fill=\"#000000\" points=\"125.0001,-56.784 121.5,-46.784 118.0001,-56.784 125.0001,-56.784\" stroke=\"#000000\"/>\n",
       "</g>\n",
       "</g>\n",
       "</svg>"
      ],
      "text/plain": [
       "<IPython.core.display.SVG object>"
      ]
     },
     "execution_count": 31,
     "metadata": {},
     "output_type": "execute_result"
    }
   ],
   "source": [
    "SVG(model_to_dot(model2, show_shapes=True).create(prog='dot', format='svg'))"
   ]
  },
  {
   "cell_type": "code",
   "execution_count": 32,
   "metadata": {
    "school_cell_uuid": "8572984efe024ca8aa57f9065c43f1c8"
   },
   "outputs": [
    {
     "name": "stdout",
     "output_type": "stream",
     "text": [
      "_________________________________________________________________\n",
      "Layer (type)                 Output Shape              Param #   \n",
      "=================================================================\n",
      "input2 (InputLayer)          (None, 4)                 0         \n",
      "_________________________________________________________________\n",
      "model1 (Sequential)          (None, 4)                 20        \n",
      "=================================================================\n",
      "Total params: 20\n",
      "Trainable params: 20\n",
      "Non-trainable params: 0\n",
      "_________________________________________________________________\n"
     ]
    }
   ],
   "source": [
    "model3 = Model(input_layer2, model1(input_layer2), name=\"model3\")\n",
    "model3.summary()"
   ]
  },
  {
   "cell_type": "code",
   "execution_count": 33,
   "metadata": {
    "school_cell_uuid": "d12869277ef94880856108301a398ead"
   },
   "outputs": [
    {
     "data": {
      "image/svg+xml": [
       "<svg height=\"138pt\" viewBox=\"0.00 0.00 254.00 138.00\" width=\"254pt\" xmlns=\"http://www.w3.org/2000/svg\" xmlns:xlink=\"http://www.w3.org/1999/xlink\">\n",
       "<g class=\"graph\" id=\"graph0\" transform=\"scale(1 1) rotate(0) translate(4 134)\">\n",
       "<title>G</title>\n",
       "<polygon fill=\"#ffffff\" points=\"-4,4 -4,-134 250,-134 250,4 -4,4\" stroke=\"transparent\"/>\n",
       "<!-- 140448602910112 -->\n",
       "<g class=\"node\" id=\"node1\">\n",
       "<title>140448602910112</title>\n",
       "<polygon fill=\"none\" points=\"1.5,-83.5 1.5,-129.5 244.5,-129.5 244.5,-83.5 1.5,-83.5\" stroke=\"#000000\"/>\n",
       "<text fill=\"#000000\" font-family=\"Times,serif\" font-size=\"14.00\" text-anchor=\"middle\" x=\"61\" y=\"-102.8\">input2: InputLayer</text>\n",
       "<polyline fill=\"none\" points=\"120.5,-83.5 120.5,-129.5 \" stroke=\"#000000\"/>\n",
       "<text fill=\"#000000\" font-family=\"Times,serif\" font-size=\"14.00\" text-anchor=\"middle\" x=\"148\" y=\"-114.3\">input:</text>\n",
       "<polyline fill=\"none\" points=\"120.5,-106.5 175.5,-106.5 \" stroke=\"#000000\"/>\n",
       "<text fill=\"#000000\" font-family=\"Times,serif\" font-size=\"14.00\" text-anchor=\"middle\" x=\"148\" y=\"-91.3\">output:</text>\n",
       "<polyline fill=\"none\" points=\"175.5,-83.5 175.5,-129.5 \" stroke=\"#000000\"/>\n",
       "<text fill=\"#000000\" font-family=\"Times,serif\" font-size=\"14.00\" text-anchor=\"middle\" x=\"210\" y=\"-114.3\">(None, 4)</text>\n",
       "<polyline fill=\"none\" points=\"175.5,-106.5 244.5,-106.5 \" stroke=\"#000000\"/>\n",
       "<text fill=\"#000000\" font-family=\"Times,serif\" font-size=\"14.00\" text-anchor=\"middle\" x=\"210\" y=\"-91.3\">(None, 4)</text>\n",
       "</g>\n",
       "<!-- 140448602981208 -->\n",
       "<g class=\"node\" id=\"node2\">\n",
       "<title>140448602981208</title>\n",
       "<polygon fill=\"none\" points=\"0,-.5 0,-46.5 246,-46.5 246,-.5 0,-.5\" stroke=\"#000000\"/>\n",
       "<text fill=\"#000000\" font-family=\"Times,serif\" font-size=\"14.00\" text-anchor=\"middle\" x=\"61\" y=\"-19.8\">model1: Sequential</text>\n",
       "<polyline fill=\"none\" points=\"122,-.5 122,-46.5 \" stroke=\"#000000\"/>\n",
       "<text fill=\"#000000\" font-family=\"Times,serif\" font-size=\"14.00\" text-anchor=\"middle\" x=\"149.5\" y=\"-31.3\">input:</text>\n",
       "<polyline fill=\"none\" points=\"122,-23.5 177,-23.5 \" stroke=\"#000000\"/>\n",
       "<text fill=\"#000000\" font-family=\"Times,serif\" font-size=\"14.00\" text-anchor=\"middle\" x=\"149.5\" y=\"-8.3\">output:</text>\n",
       "<polyline fill=\"none\" points=\"177,-.5 177,-46.5 \" stroke=\"#000000\"/>\n",
       "<text fill=\"#000000\" font-family=\"Times,serif\" font-size=\"14.00\" text-anchor=\"middle\" x=\"211.5\" y=\"-31.3\">(None, 4)</text>\n",
       "<polyline fill=\"none\" points=\"177,-23.5 246,-23.5 \" stroke=\"#000000\"/>\n",
       "<text fill=\"#000000\" font-family=\"Times,serif\" font-size=\"14.00\" text-anchor=\"middle\" x=\"211.5\" y=\"-8.3\">(None, 4)</text>\n",
       "</g>\n",
       "<!-- 140448602910112&#45;&gt;140448602981208 -->\n",
       "<g class=\"edge\" id=\"edge1\">\n",
       "<title>140448602910112-&gt;140448602981208</title>\n",
       "<path d=\"M123,-83.3799C123,-75.1745 123,-65.7679 123,-56.8786\" fill=\"none\" stroke=\"#000000\"/>\n",
       "<polygon fill=\"#000000\" points=\"126.5001,-56.784 123,-46.784 119.5001,-56.784 126.5001,-56.784\" stroke=\"#000000\"/>\n",
       "</g>\n",
       "</g>\n",
       "</svg>"
      ],
      "text/plain": [
       "<IPython.core.display.SVG object>"
      ]
     },
     "execution_count": 33,
     "metadata": {},
     "output_type": "execute_result"
    }
   ],
   "source": [
    "SVG(model_to_dot(model3, show_shapes=True).create(prog='dot', format='svg'))"
   ]
  },
  {
   "cell_type": "code",
   "execution_count": 34,
   "metadata": {
    "school_cell_uuid": "be79b89bae20447dbacad5ada6768a05"
   },
   "outputs": [
    {
     "name": "stdout",
     "output_type": "stream",
     "text": [
      "_________________________________________________________________\n",
      "Layer (type)                 Output Shape              Param #   \n",
      "=================================================================\n",
      "input4 (InputLayer)          (None, 4)                 0         \n",
      "_________________________________________________________________\n",
      "model2 (Model)               (None, 4)                 20        \n",
      "=================================================================\n",
      "Total params: 20\n",
      "Trainable params: 20\n",
      "Non-trainable params: 0\n",
      "_________________________________________________________________\n"
     ]
    }
   ],
   "source": [
    "input_layer4 = Input(shape=(4,), name=\"input4\")\n",
    "model4 = Model(input_layer4, model2(input_layer4), name=\"model4\")\n",
    "model4.summary()"
   ]
  },
  {
   "cell_type": "code",
   "execution_count": 35,
   "metadata": {
    "school_cell_uuid": "5a4a43fe765045a78edf17659f895088"
   },
   "outputs": [
    {
     "data": {
      "image/svg+xml": [
       "<svg height=\"138pt\" viewBox=\"0.00 0.00 251.00 138.00\" width=\"251pt\" xmlns=\"http://www.w3.org/2000/svg\" xmlns:xlink=\"http://www.w3.org/1999/xlink\">\n",
       "<g class=\"graph\" id=\"graph0\" transform=\"scale(1 1) rotate(0) translate(4 134)\">\n",
       "<title>G</title>\n",
       "<polygon fill=\"#ffffff\" points=\"-4,4 -4,-134 247,-134 247,4 -4,4\" stroke=\"transparent\"/>\n",
       "<!-- 140448602918192 -->\n",
       "<g class=\"node\" id=\"node1\">\n",
       "<title>140448602918192</title>\n",
       "<polygon fill=\"none\" points=\"0,-83.5 0,-129.5 243,-129.5 243,-83.5 0,-83.5\" stroke=\"#000000\"/>\n",
       "<text fill=\"#000000\" font-family=\"Times,serif\" font-size=\"14.00\" text-anchor=\"middle\" x=\"59.5\" y=\"-102.8\">input4: InputLayer</text>\n",
       "<polyline fill=\"none\" points=\"119,-83.5 119,-129.5 \" stroke=\"#000000\"/>\n",
       "<text fill=\"#000000\" font-family=\"Times,serif\" font-size=\"14.00\" text-anchor=\"middle\" x=\"146.5\" y=\"-114.3\">input:</text>\n",
       "<polyline fill=\"none\" points=\"119,-106.5 174,-106.5 \" stroke=\"#000000\"/>\n",
       "<text fill=\"#000000\" font-family=\"Times,serif\" font-size=\"14.00\" text-anchor=\"middle\" x=\"146.5\" y=\"-91.3\">output:</text>\n",
       "<polyline fill=\"none\" points=\"174,-83.5 174,-129.5 \" stroke=\"#000000\"/>\n",
       "<text fill=\"#000000\" font-family=\"Times,serif\" font-size=\"14.00\" text-anchor=\"middle\" x=\"208.5\" y=\"-114.3\">(None, 4)</text>\n",
       "<polyline fill=\"none\" points=\"174,-106.5 243,-106.5 \" stroke=\"#000000\"/>\n",
       "<text fill=\"#000000\" font-family=\"Times,serif\" font-size=\"14.00\" text-anchor=\"middle\" x=\"208.5\" y=\"-91.3\">(None, 4)</text>\n",
       "</g>\n",
       "<!-- 140448602968472 -->\n",
       "<g class=\"node\" id=\"node2\">\n",
       "<title>140448602968472</title>\n",
       "<polygon fill=\"none\" points=\"9,-.5 9,-46.5 234,-46.5 234,-.5 9,-.5\" stroke=\"#000000\"/>\n",
       "<text fill=\"#000000\" font-family=\"Times,serif\" font-size=\"14.00\" text-anchor=\"middle\" x=\"59.5\" y=\"-19.8\">model2: Model</text>\n",
       "<polyline fill=\"none\" points=\"110,-.5 110,-46.5 \" stroke=\"#000000\"/>\n",
       "<text fill=\"#000000\" font-family=\"Times,serif\" font-size=\"14.00\" text-anchor=\"middle\" x=\"137.5\" y=\"-31.3\">input:</text>\n",
       "<polyline fill=\"none\" points=\"110,-23.5 165,-23.5 \" stroke=\"#000000\"/>\n",
       "<text fill=\"#000000\" font-family=\"Times,serif\" font-size=\"14.00\" text-anchor=\"middle\" x=\"137.5\" y=\"-8.3\">output:</text>\n",
       "<polyline fill=\"none\" points=\"165,-.5 165,-46.5 \" stroke=\"#000000\"/>\n",
       "<text fill=\"#000000\" font-family=\"Times,serif\" font-size=\"14.00\" text-anchor=\"middle\" x=\"199.5\" y=\"-31.3\">(None, 4)</text>\n",
       "<polyline fill=\"none\" points=\"165,-23.5 234,-23.5 \" stroke=\"#000000\"/>\n",
       "<text fill=\"#000000\" font-family=\"Times,serif\" font-size=\"14.00\" text-anchor=\"middle\" x=\"199.5\" y=\"-8.3\">(None, 4)</text>\n",
       "</g>\n",
       "<!-- 140448602918192&#45;&gt;140448602968472 -->\n",
       "<g class=\"edge\" id=\"edge1\">\n",
       "<title>140448602918192-&gt;140448602968472</title>\n",
       "<path d=\"M121.5,-83.3799C121.5,-75.1745 121.5,-65.7679 121.5,-56.8786\" fill=\"none\" stroke=\"#000000\"/>\n",
       "<polygon fill=\"#000000\" points=\"125.0001,-56.784 121.5,-46.784 118.0001,-56.784 125.0001,-56.784\" stroke=\"#000000\"/>\n",
       "</g>\n",
       "</g>\n",
       "</svg>"
      ],
      "text/plain": [
       "<IPython.core.display.SVG object>"
      ]
     },
     "execution_count": 35,
     "metadata": {},
     "output_type": "execute_result"
    }
   ],
   "source": [
    "SVG(model_to_dot(model4, show_shapes=True).create(prog='dot', format='svg'))"
   ]
  },
  {
   "cell_type": "code",
   "execution_count": 36,
   "metadata": {
    "school_cell_uuid": "63d9a51f869d4194a8586edb862bb80a"
   },
   "outputs": [],
   "source": [
    "data = np.ones((1, 4))"
   ]
  },
  {
   "cell_type": "code",
   "execution_count": 37,
   "metadata": {
    "school_cell_uuid": "506af2d1a4d84eb5bff735a1e3e27ce1"
   },
   "outputs": [
    {
     "data": {
      "text/plain": [
       "array([[0.89517384],\n",
       "       [0.49439434],\n",
       "       [0.7787448 ],\n",
       "       [0.87421386]])"
      ]
     },
     "execution_count": 37,
     "metadata": {},
     "output_type": "execute_result"
    }
   ],
   "source": [
    "y = 1 / (1 + np.exp(-(w.T).dot(data.T)))\n",
    "y"
   ]
  },
  {
   "cell_type": "code",
   "execution_count": 38,
   "metadata": {
    "school_cell_uuid": "802dec79f89441d2a5e134fefc5bf373"
   },
   "outputs": [
    {
     "data": {
      "text/plain": [
       "array([[0.89517385, 0.49439433, 0.7787448 , 0.8742138 ]], dtype=float32)"
      ]
     },
     "execution_count": 38,
     "metadata": {},
     "output_type": "execute_result"
    }
   ],
   "source": [
    "model1.predict(data)"
   ]
  },
  {
   "cell_type": "code",
   "execution_count": 39,
   "metadata": {
    "school_cell_uuid": "27ba81d97482422ea6b9e35012cf6be2"
   },
   "outputs": [
    {
     "data": {
      "text/plain": [
       "array([[0.89517385, 0.49439433, 0.7787448 , 0.8742138 ]], dtype=float32)"
      ]
     },
     "execution_count": 39,
     "metadata": {},
     "output_type": "execute_result"
    }
   ],
   "source": [
    "model2.predict(data)"
   ]
  },
  {
   "cell_type": "code",
   "execution_count": 40,
   "metadata": {
    "school_cell_uuid": "3cb32283204e4d3dae474b2cc1459d51"
   },
   "outputs": [
    {
     "data": {
      "text/plain": [
       "array([[0.89517385, 0.49439433, 0.7787448 , 0.8742138 ]], dtype=float32)"
      ]
     },
     "execution_count": 40,
     "metadata": {},
     "output_type": "execute_result"
    }
   ],
   "source": [
    "model3.predict(data)"
   ]
  },
  {
   "cell_type": "code",
   "execution_count": 41,
   "metadata": {
    "school_cell_uuid": "b1fad47fc7344e2d82d2780badd12378"
   },
   "outputs": [
    {
     "data": {
      "text/plain": [
       "array([[0.89517385, 0.49439433, 0.7787448 , 0.8742138 ]], dtype=float32)"
      ]
     },
     "execution_count": 41,
     "metadata": {},
     "output_type": "execute_result"
    }
   ],
   "source": [
    "model4.predict(data)"
   ]
  },
  {
   "cell_type": "markdown",
   "metadata": {
    "school_cell_uuid": "d9dd62debda4495c80f066a2446e82a2"
   },
   "source": [
    "## Serial Model"
   ]
  },
  {
   "cell_type": "markdown",
   "metadata": {
    "school_cell_uuid": "50a2e4a429ba42018519627561fa059e"
   },
   "source": [
    "* 모델을 직렬로 연결하려면 모델을 레이어로 변환하기 위해 추가적인 `Input` 레이어가 필요"
   ]
  },
  {
   "cell_type": "code",
   "execution_count": 42,
   "metadata": {
    "school_cell_uuid": "1869c8166e4042baa946f840ff0c2e7b"
   },
   "outputs": [],
   "source": [
    "input_5 = Input(shape=(4,), name=\"input5\")\n",
    "model5 = Model(input_5, model2(model1(input_5)), name=\"model5\")"
   ]
  },
  {
   "cell_type": "code",
   "execution_count": 43,
   "metadata": {
    "school_cell_uuid": "6122a9eee5214c22a45c22017324f603",
    "scrolled": false
   },
   "outputs": [
    {
     "name": "stdout",
     "output_type": "stream",
     "text": [
      "_________________________________________________________________\n",
      "Layer (type)                 Output Shape              Param #   \n",
      "=================================================================\n",
      "input5 (InputLayer)          (None, 4)                 0         \n",
      "_________________________________________________________________\n",
      "model1 (Sequential)          (None, 4)                 20        \n",
      "_________________________________________________________________\n",
      "model2 (Model)               (None, 4)                 20        \n",
      "=================================================================\n",
      "Total params: 40\n",
      "Trainable params: 40\n",
      "Non-trainable params: 0\n",
      "_________________________________________________________________\n"
     ]
    }
   ],
   "source": [
    "model5.summary()"
   ]
  },
  {
   "cell_type": "code",
   "execution_count": 44,
   "metadata": {
    "school_cell_uuid": "a65849814e8b49adbc431e90ceddf1c3"
   },
   "outputs": [
    {
     "data": {
      "image/svg+xml": [
       "<svg height=\"221pt\" viewBox=\"0.00 0.00 254.00 221.00\" width=\"254pt\" xmlns=\"http://www.w3.org/2000/svg\" xmlns:xlink=\"http://www.w3.org/1999/xlink\">\n",
       "<g class=\"graph\" id=\"graph0\" transform=\"scale(1 1) rotate(0) translate(4 217)\">\n",
       "<title>G</title>\n",
       "<polygon fill=\"#ffffff\" points=\"-4,4 -4,-217 250,-217 250,4 -4,4\" stroke=\"transparent\"/>\n",
       "<!-- 140448602182936 -->\n",
       "<g class=\"node\" id=\"node1\">\n",
       "<title>140448602182936</title>\n",
       "<polygon fill=\"none\" points=\"1.5,-166.5 1.5,-212.5 244.5,-212.5 244.5,-166.5 1.5,-166.5\" stroke=\"#000000\"/>\n",
       "<text fill=\"#000000\" font-family=\"Times,serif\" font-size=\"14.00\" text-anchor=\"middle\" x=\"61\" y=\"-185.8\">input5: InputLayer</text>\n",
       "<polyline fill=\"none\" points=\"120.5,-166.5 120.5,-212.5 \" stroke=\"#000000\"/>\n",
       "<text fill=\"#000000\" font-family=\"Times,serif\" font-size=\"14.00\" text-anchor=\"middle\" x=\"148\" y=\"-197.3\">input:</text>\n",
       "<polyline fill=\"none\" points=\"120.5,-189.5 175.5,-189.5 \" stroke=\"#000000\"/>\n",
       "<text fill=\"#000000\" font-family=\"Times,serif\" font-size=\"14.00\" text-anchor=\"middle\" x=\"148\" y=\"-174.3\">output:</text>\n",
       "<polyline fill=\"none\" points=\"175.5,-166.5 175.5,-212.5 \" stroke=\"#000000\"/>\n",
       "<text fill=\"#000000\" font-family=\"Times,serif\" font-size=\"14.00\" text-anchor=\"middle\" x=\"210\" y=\"-197.3\">(None, 4)</text>\n",
       "<polyline fill=\"none\" points=\"175.5,-189.5 244.5,-189.5 \" stroke=\"#000000\"/>\n",
       "<text fill=\"#000000\" font-family=\"Times,serif\" font-size=\"14.00\" text-anchor=\"middle\" x=\"210\" y=\"-174.3\">(None, 4)</text>\n",
       "</g>\n",
       "<!-- 140448602981208 -->\n",
       "<g class=\"node\" id=\"node2\">\n",
       "<title>140448602981208</title>\n",
       "<polygon fill=\"none\" points=\"0,-83.5 0,-129.5 246,-129.5 246,-83.5 0,-83.5\" stroke=\"#000000\"/>\n",
       "<text fill=\"#000000\" font-family=\"Times,serif\" font-size=\"14.00\" text-anchor=\"middle\" x=\"61\" y=\"-102.8\">model1: Sequential</text>\n",
       "<polyline fill=\"none\" points=\"122,-83.5 122,-129.5 \" stroke=\"#000000\"/>\n",
       "<text fill=\"#000000\" font-family=\"Times,serif\" font-size=\"14.00\" text-anchor=\"middle\" x=\"149.5\" y=\"-114.3\">input:</text>\n",
       "<polyline fill=\"none\" points=\"122,-106.5 177,-106.5 \" stroke=\"#000000\"/>\n",
       "<text fill=\"#000000\" font-family=\"Times,serif\" font-size=\"14.00\" text-anchor=\"middle\" x=\"149.5\" y=\"-91.3\">output:</text>\n",
       "<polyline fill=\"none\" points=\"177,-83.5 177,-129.5 \" stroke=\"#000000\"/>\n",
       "<text fill=\"#000000\" font-family=\"Times,serif\" font-size=\"14.00\" text-anchor=\"middle\" x=\"211.5\" y=\"-114.3\">(None, 4)</text>\n",
       "<polyline fill=\"none\" points=\"177,-106.5 246,-106.5 \" stroke=\"#000000\"/>\n",
       "<text fill=\"#000000\" font-family=\"Times,serif\" font-size=\"14.00\" text-anchor=\"middle\" x=\"211.5\" y=\"-91.3\">(None, 4)</text>\n",
       "</g>\n",
       "<!-- 140448602182936&#45;&gt;140448602981208 -->\n",
       "<g class=\"edge\" id=\"edge1\">\n",
       "<title>140448602182936-&gt;140448602981208</title>\n",
       "<path d=\"M123,-166.3799C123,-158.1745 123,-148.7679 123,-139.8786\" fill=\"none\" stroke=\"#000000\"/>\n",
       "<polygon fill=\"#000000\" points=\"126.5001,-139.784 123,-129.784 119.5001,-139.784 126.5001,-139.784\" stroke=\"#000000\"/>\n",
       "</g>\n",
       "<!-- 140448602968472 -->\n",
       "<g class=\"node\" id=\"node3\">\n",
       "<title>140448602968472</title>\n",
       "<polygon fill=\"none\" points=\"10.5,-.5 10.5,-46.5 235.5,-46.5 235.5,-.5 10.5,-.5\" stroke=\"#000000\"/>\n",
       "<text fill=\"#000000\" font-family=\"Times,serif\" font-size=\"14.00\" text-anchor=\"middle\" x=\"61\" y=\"-19.8\">model2: Model</text>\n",
       "<polyline fill=\"none\" points=\"111.5,-.5 111.5,-46.5 \" stroke=\"#000000\"/>\n",
       "<text fill=\"#000000\" font-family=\"Times,serif\" font-size=\"14.00\" text-anchor=\"middle\" x=\"139\" y=\"-31.3\">input:</text>\n",
       "<polyline fill=\"none\" points=\"111.5,-23.5 166.5,-23.5 \" stroke=\"#000000\"/>\n",
       "<text fill=\"#000000\" font-family=\"Times,serif\" font-size=\"14.00\" text-anchor=\"middle\" x=\"139\" y=\"-8.3\">output:</text>\n",
       "<polyline fill=\"none\" points=\"166.5,-.5 166.5,-46.5 \" stroke=\"#000000\"/>\n",
       "<text fill=\"#000000\" font-family=\"Times,serif\" font-size=\"14.00\" text-anchor=\"middle\" x=\"201\" y=\"-31.3\">(None, 4)</text>\n",
       "<polyline fill=\"none\" points=\"166.5,-23.5 235.5,-23.5 \" stroke=\"#000000\"/>\n",
       "<text fill=\"#000000\" font-family=\"Times,serif\" font-size=\"14.00\" text-anchor=\"middle\" x=\"201\" y=\"-8.3\">(None, 4)</text>\n",
       "</g>\n",
       "<!-- 140448602981208&#45;&gt;140448602968472 -->\n",
       "<g class=\"edge\" id=\"edge2\">\n",
       "<title>140448602981208-&gt;140448602968472</title>\n",
       "<path d=\"M123,-83.3799C123,-75.1745 123,-65.7679 123,-56.8786\" fill=\"none\" stroke=\"#000000\"/>\n",
       "<polygon fill=\"#000000\" points=\"126.5001,-56.784 123,-46.784 119.5001,-56.784 126.5001,-56.784\" stroke=\"#000000\"/>\n",
       "</g>\n",
       "</g>\n",
       "</svg>"
      ],
      "text/plain": [
       "<IPython.core.display.SVG object>"
      ]
     },
     "execution_count": 44,
     "metadata": {},
     "output_type": "execute_result"
    }
   ],
   "source": [
    "SVG(model_to_dot(model5, show_shapes=True).create(prog='dot', format='svg'))"
   ]
  },
  {
   "cell_type": "code",
   "execution_count": 45,
   "metadata": {
    "school_cell_uuid": "bb66445682cd4699aebb5dd2e18e1160"
   },
   "outputs": [
    {
     "data": {
      "text/plain": [
       "array([[0.82399994, 0.53757536, 0.71565944, 0.8425977 ]], dtype=float32)"
      ]
     },
     "execution_count": 45,
     "metadata": {},
     "output_type": "execute_result"
    }
   ],
   "source": [
    "model5.predict(data)"
   ]
  },
  {
   "cell_type": "code",
   "execution_count": 46,
   "metadata": {
    "school_cell_uuid": "34eaf3b6d9cd4c07a4f71d10083577f1"
   },
   "outputs": [
    {
     "data": {
      "text/plain": [
       "array([[0.82399994, 0.5375754 , 0.71565945, 0.84259771]])"
      ]
     },
     "execution_count": 46,
     "metadata": {},
     "output_type": "execute_result"
    }
   ],
   "source": [
    "y2 = 1 / (1 + np.exp(-(w.T).dot(y)))\n",
    "y2.T"
   ]
  }
 ],
 "metadata": {
  "kernelspec": {
   "display_name": "Python 3",
   "language": "python",
   "name": "python3"
  },
  "language_info": {
   "codemirror_mode": {
    "name": "ipython",
    "version": 3
   },
   "file_extension": ".py",
   "mimetype": "text/x-python",
   "name": "python",
   "nbconvert_exporter": "python",
   "pygments_lexer": "ipython3",
   "version": "3.6.5"
  }
 },
 "nbformat": 4,
 "nbformat_minor": 2
}
